{
 "cells": [
  {
   "cell_type": "code",
   "execution_count": 1,
   "metadata": {
    "scrolled": true
   },
   "outputs": [],
   "source": [
    "from requests import get\n",
    "\n",
    "#Scraping data from Bose website\n",
    "url = \"https://www.bose.com/en_us/shop_all/headphones/headphones.html\"\n",
    "\n",
    "response = get(url)\n",
    "                                                                                                                                                                                                                                                                                                                                 \n",
    "        "
   ]
  },
  {
   "cell_type": "code",
   "execution_count": 2,
   "metadata": {},
   "outputs": [
    {
     "data": {
      "text/plain": [
       "12"
      ]
     },
     "execution_count": 2,
     "metadata": {},
     "output_type": "execute_result"
    }
   ],
   "source": [
    "from bs4 import BeautifulSoup \n",
    "\n",
    "#importing BeautifulSoup and storing soup data in a variable\n",
    "soup = BeautifulSoup(response.text,'html.parser')\n",
    "\n",
    "productlist = soup.find_all('div' ,class_ = 'bose-productTile2016__info__wrapper')\n",
    "len(productlist)"
   ]
  },
  {
   "cell_type": "code",
   "execution_count": 3,
   "metadata": {},
   "outputs": [],
   "source": [
    "#Declaring Atttributes/Lists\n",
    "product_name = []\n",
    "product_price = []\n",
    "product_features = []\n",
    "product_rating =[]\n",
    "\n",
    "\n",
    "# Extracting data of individual products\n",
    "\n",
    "for productdata in productlist:\n",
    "    \n",
    "    #Product name\n",
    "    name = productdata.find(\"p\", class_=\"bose-title bose-title--product bose-productTile2016__info__title\").text\n",
    "    product_name.append(name)\n",
    "    \n",
    "    #Product price\n",
    "    \n",
    "    price = productdata.find(\"p\" , class_=\"bose-productPriceSummary bose-productTile2016__info__price\").text\n",
    "    product_price.append(price)\n",
    "    \n",
    "    #Features\n",
    "\n",
    "    features = productdata.find(\"p\", class_=\"bose-productTile2016__info__description\").text\n",
    "    product_features.append(features)\n",
    "    \n",
    "    #Rating\n",
    "    \n",
    "    rating = productdata.find(\"div\", class_=\"bose-inlineRatings bose-inlineRatings--small bose-productTile2016__info__userPref__rating\")['aria-label']\n",
    "    product_rating.append(rating)"
   ]
  },
  {
   "cell_type": "code",
   "execution_count": 4,
   "metadata": {},
   "outputs": [],
   "source": [
    "    import pandas as ps\n",
    " #Adding to pandas dataframe\n",
    "    Product_data  = ps.DataFrame({\"PRODUCT_NAME\":product_name,\n",
    "                                  \"PRODUCT_PRICE\":product_price,\n",
    "                              \"PRODUCT_FEATURES\":product_features,\n",
    "                              \"PRODUCT_RATING\":product_rating})\n"
   ]
  },
  {
   "cell_type": "code",
   "execution_count": 101,
   "metadata": {
    "scrolled": true
   },
   "outputs": [
    {
     "data": {
      "text/html": [
       "<div>\n",
       "<style scoped>\n",
       "    .dataframe tbody tr th:only-of-type {\n",
       "        vertical-align: middle;\n",
       "    }\n",
       "\n",
       "    .dataframe tbody tr th {\n",
       "        vertical-align: top;\n",
       "    }\n",
       "\n",
       "    .dataframe thead th {\n",
       "        text-align: right;\n",
       "    }\n",
       "</style>\n",
       "<table border=\"1\" class=\"dataframe\">\n",
       "  <thead>\n",
       "    <tr style=\"text-align: right;\">\n",
       "      <th></th>\n",
       "      <th>PRODUCT_NAME</th>\n",
       "      <th>PRODUCT_PRICE</th>\n",
       "      <th>PRODUCT_FEATURES</th>\n",
       "      <th>PRODUCT_RATING</th>\n",
       "    </tr>\n",
       "  </thead>\n",
       "  <tbody>\n",
       "    <tr>\n",
       "      <th>0</th>\n",
       "      <td>Bose Frames Rondo</td>\n",
       "      <td>$199.95</td>\n",
       "      <td>Sunglasses with open-ear audio for music, int...</td>\n",
       "      <td>Rated 4.2 out of 5 stars by 10 customers</td>\n",
       "    </tr>\n",
       "    <tr>\n",
       "      <th>1</th>\n",
       "      <td>Bose Frames Alto</td>\n",
       "      <td>$199.95</td>\n",
       "      <td>Iconically styled sunglasses with open-ear au...</td>\n",
       "      <td>Rated 3.9 out of 5 stars by 29 customers</td>\n",
       "    </tr>\n",
       "    <tr>\n",
       "      <th>2</th>\n",
       "      <td>ProFlight Aviation Headset</td>\n",
       "      <td>$995.95</td>\n",
       "      <td>In ear, noise reduction, clear audio, audio/c...</td>\n",
       "      <td>Rated 3.5 out of 5 stars by 61 customers</td>\n",
       "    </tr>\n",
       "    <tr>\n",
       "      <th>3</th>\n",
       "      <td>QuietComfort 35 wireless headphones II</td>\n",
       "      <td>$349.95</td>\n",
       "      <td>Adjustable noise cancelling, voice assistants...</td>\n",
       "      <td>Rated 4.0 out of 5 stars by 454 customers</td>\n",
       "    </tr>\n",
       "    <tr>\n",
       "      <th>4</th>\n",
       "      <td>SoundSport Free wireless headphones</td>\n",
       "      <td>$199.95</td>\n",
       "      <td>Truly wireless, water resistant, 5 hours of b...</td>\n",
       "      <td>Rated 3.5 out of 5 stars by 1088 customers</td>\n",
       "    </tr>\n",
       "    <tr>\n",
       "      <th>5</th>\n",
       "      <td>Bose noise-masking sleepbuds™</td>\n",
       "      <td>$249.95</td>\n",
       "      <td>Truly wireless, noise-masking sleepbuds, all-...</td>\n",
       "      <td>Rated 3.8 out of 5 stars by 450 customers</td>\n",
       "    </tr>\n",
       "    <tr>\n",
       "      <th>6</th>\n",
       "      <td>SoundSport wireless headphones</td>\n",
       "      <td>$149.95</td>\n",
       "      <td>Water resistant, 6 hours battery life</td>\n",
       "      <td>Rated 3.3 out of 5 stars by 1271 customers</td>\n",
       "    </tr>\n",
       "    <tr>\n",
       "      <th>7</th>\n",
       "      <td>Custom QuietComfort 35 wireless headphones II</td>\n",
       "      <td>$399.95</td>\n",
       "      <td>Custom color with VPA built-in, noise cancell...</td>\n",
       "      <td>Rated 4.4 out of 5 stars by 23 customers</td>\n",
       "    </tr>\n",
       "    <tr>\n",
       "      <th>8</th>\n",
       "      <td>QC25 noise cancelling headphones – Apple dev...</td>\n",
       "      <td>Current Price $179.95 $179.95 Original Price ...</td>\n",
       "      <td>Noise cancelling, lightweight fit, inline mic...</td>\n",
       "      <td>Rated 3.8 out of 5 stars by 516 customers</td>\n",
       "    </tr>\n",
       "    <tr>\n",
       "      <th>9</th>\n",
       "      <td>SoundLink® around-ear wireless headphones II</td>\n",
       "      <td>$229.95</td>\n",
       "      <td>Wireless, Bluetooth® controls, 2-way mic system</td>\n",
       "      <td>Rated 4.2 out of 5 stars by 283 customers</td>\n",
       "    </tr>\n",
       "    <tr>\n",
       "      <th>10</th>\n",
       "      <td>SoundWear Companion speaker</td>\n",
       "      <td>$299.95</td>\n",
       "      <td>Wearable speaker with deep, clear sound for m...</td>\n",
       "      <td>Rated 4.6 out of 5 stars by 153 customers</td>\n",
       "    </tr>\n",
       "    <tr>\n",
       "      <th>11</th>\n",
       "      <td>Bose on-ear wireless headphones</td>\n",
       "      <td>$179.95</td>\n",
       "      <td>Lightweight, wireless, 10 hours of battery life</td>\n",
       "      <td>Rated 3.8 out of 5 stars by 47 customers</td>\n",
       "    </tr>\n",
       "  </tbody>\n",
       "</table>\n",
       "</div>"
      ],
      "text/plain": [
       "                                         PRODUCT_NAME  \\\n",
       "0                                 Bose Frames Rondo     \n",
       "1                                  Bose Frames Alto     \n",
       "2                        ProFlight Aviation Headset     \n",
       "3            QuietComfort 35 wireless headphones II     \n",
       "4               SoundSport Free wireless headphones     \n",
       "5                     Bose noise-masking sleepbuds™     \n",
       "6                    SoundSport wireless headphones     \n",
       "7     Custom QuietComfort 35 wireless headphones II     \n",
       "8     QC25 noise cancelling headphones – Apple dev...   \n",
       "9      SoundLink® around-ear wireless headphones II     \n",
       "10                      SoundWear Companion speaker     \n",
       "11                  Bose on-ear wireless headphones     \n",
       "\n",
       "                                        PRODUCT_PRICE  \\\n",
       "0                                            $199.95    \n",
       "1                                            $199.95    \n",
       "2                                            $995.95    \n",
       "3                                            $349.95    \n",
       "4                                            $199.95    \n",
       "5                                            $249.95    \n",
       "6                                            $149.95    \n",
       "7                                            $399.95    \n",
       "8    Current Price $179.95 $179.95 Original Price ...   \n",
       "9                                            $229.95    \n",
       "10                                           $299.95    \n",
       "11                                           $179.95    \n",
       "\n",
       "                                     PRODUCT_FEATURES  \\\n",
       "0    Sunglasses with open-ear audio for music, int...   \n",
       "1    Iconically styled sunglasses with open-ear au...   \n",
       "2    In ear, noise reduction, clear audio, audio/c...   \n",
       "3    Adjustable noise cancelling, voice assistants...   \n",
       "4    Truly wireless, water resistant, 5 hours of b...   \n",
       "5    Truly wireless, noise-masking sleepbuds, all-...   \n",
       "6              Water resistant, 6 hours battery life    \n",
       "7    Custom color with VPA built-in, noise cancell...   \n",
       "8    Noise cancelling, lightweight fit, inline mic...   \n",
       "9    Wireless, Bluetooth® controls, 2-way mic system    \n",
       "10   Wearable speaker with deep, clear sound for m...   \n",
       "11   Lightweight, wireless, 10 hours of battery life    \n",
       "\n",
       "                                PRODUCT_RATING  \n",
       "0     Rated 4.2 out of 5 stars by 10 customers  \n",
       "1     Rated 3.9 out of 5 stars by 29 customers  \n",
       "2     Rated 3.5 out of 5 stars by 61 customers  \n",
       "3    Rated 4.0 out of 5 stars by 454 customers  \n",
       "4   Rated 3.5 out of 5 stars by 1088 customers  \n",
       "5    Rated 3.8 out of 5 stars by 450 customers  \n",
       "6   Rated 3.3 out of 5 stars by 1271 customers  \n",
       "7     Rated 4.4 out of 5 stars by 23 customers  \n",
       "8    Rated 3.8 out of 5 stars by 516 customers  \n",
       "9    Rated 4.2 out of 5 stars by 283 customers  \n",
       "10   Rated 4.6 out of 5 stars by 153 customers  \n",
       "11    Rated 3.8 out of 5 stars by 47 customers  "
      ]
     },
     "execution_count": 101,
     "metadata": {},
     "output_type": "execute_result"
    }
   ],
   "source": [
    "#Displaying dataframe\n",
    "Product_data"
   ]
  },
  {
   "cell_type": "code",
   "execution_count": 102,
   "metadata": {
    "scrolled": true
   },
   "outputs": [
    {
     "data": {
      "text/plain": [
       "['  Bose Frames Rondo  ',\n",
       " '  Bose Frames Alto  ',\n",
       " '  ProFlight Aviation Headset  ',\n",
       " '  QuietComfort 35 wireless headphones II  ',\n",
       " '  SoundSport Free wireless headphones  ',\n",
       " '  Bose noise-masking sleepbuds™  ',\n",
       " '  SoundSport wireless headphones  ',\n",
       " '  Custom QuietComfort 35 wireless headphones II  ',\n",
       " '  QC25 noise cancelling headphones – Apple devices  ',\n",
       " '  SoundLink® around-ear wireless headphones II  ',\n",
       " '  SoundWear Companion speaker  ',\n",
       " '  Bose on-ear wireless headphones  ']"
      ]
     },
     "execution_count": 102,
     "metadata": {},
     "output_type": "execute_result"
    }
   ],
   "source": [
    "product_name"
   ]
  },
  {
   "cell_type": "code",
   "execution_count": 103,
   "metadata": {},
   "outputs": [],
   "source": [
    "    # Removing 'II' from product_name as part of cleaning process\n",
    "    \n",
    "    Product_data[\"PRODUCT_NAME\"] = Product_data[\"PRODUCT_NAME\"].str.replace(\"II\",\"\")"
   ]
  },
  {
   "cell_type": "code",
   "execution_count": 104,
   "metadata": {
    "scrolled": false
   },
   "outputs": [
    {
     "data": {
      "text/plain": [
       "0                                   Bose Frames Rondo  \n",
       "1                                    Bose Frames Alto  \n",
       "2                          ProFlight Aviation Headset  \n",
       "3                QuietComfort 35 wireless headphones   \n",
       "4                 SoundSport Free wireless headphones  \n",
       "5                       Bose noise-masking sleepbuds™  \n",
       "6                      SoundSport wireless headphones  \n",
       "7         Custom QuietComfort 35 wireless headphones   \n",
       "8       QC25 noise cancelling headphones – Apple dev...\n",
       "9          SoundLink® around-ear wireless headphones   \n",
       "10                        SoundWear Companion speaker  \n",
       "11                    Bose on-ear wireless headphones  \n",
       "Name: PRODUCT_NAME, dtype: object"
      ]
     },
     "execution_count": 104,
     "metadata": {},
     "output_type": "execute_result"
    }
   ],
   "source": [
    "Product_data[\"PRODUCT_NAME\"]"
   ]
  },
  {
   "cell_type": "code",
   "execution_count": 105,
   "metadata": {},
   "outputs": [
    {
     "data": {
      "text/plain": [
       "0                                              $199.95 \n",
       "1                                              $199.95 \n",
       "2                                              $995.95 \n",
       "3                                              $349.95 \n",
       "4                                              $199.95 \n",
       "5                                              $249.95 \n",
       "6                                              $149.95 \n",
       "7                                              $399.95 \n",
       "8      Current Price $179.95 $179.95 Original Price ...\n",
       "9                                              $229.95 \n",
       "10                                             $299.95 \n",
       "11                                             $179.95 \n",
       "Name: PRODUCT_PRICE, dtype: object"
      ]
     },
     "execution_count": 105,
     "metadata": {},
     "output_type": "execute_result"
    }
   ],
   "source": [
    "Product_data[\"PRODUCT_PRICE\"]"
   ]
  },
  {
   "cell_type": "code",
   "execution_count": 106,
   "metadata": {},
   "outputs": [],
   "source": [
    " #Removing unwanted data in product_price \n",
    " Product_data[\"PRODUCT_PRICE\"] = Product_data[\"PRODUCT_PRICE\"].str.replace(\"Current\",\"\")\n",
    " Product_data[\"PRODUCT_PRICE\"] = Product_data[\"PRODUCT_PRICE\"].str.replace(\"Price\",\"\")\n",
    " "
   ]
  },
  {
   "cell_type": "code",
   "execution_count": 107,
   "metadata": {
    "scrolled": true
   },
   "outputs": [
    {
     "data": {
      "text/plain": [
       "0                                          $199.95 \n",
       "1                                          $199.95 \n",
       "2                                          $995.95 \n",
       "3                                          $349.95 \n",
       "4                                          $199.95 \n",
       "5                                          $249.95 \n",
       "6                                          $149.95 \n",
       "7                                          $399.95 \n",
       "8        $179.95 $179.95 Original  $279.95 $279.95 \n",
       "9                                          $229.95 \n",
       "10                                         $299.95 \n",
       "11                                         $179.95 \n",
       "Name: PRODUCT_PRICE, dtype: object"
      ]
     },
     "execution_count": 107,
     "metadata": {},
     "output_type": "execute_result"
    }
   ],
   "source": [
    "Product_data[\"PRODUCT_PRICE\"]"
   ]
  },
  {
   "cell_type": "code",
   "execution_count": 108,
   "metadata": {},
   "outputs": [],
   "source": [
    "#Removing extra prices from price column\n",
    "Product_data[\"PRODUCT_PRICE\"] = Product_data[\"PRODUCT_PRICE\"].str.slice(stop=11)"
   ]
  },
  {
   "cell_type": "code",
   "execution_count": 109,
   "metadata": {},
   "outputs": [
    {
     "data": {
      "text/html": [
       "<div>\n",
       "<style scoped>\n",
       "    .dataframe tbody tr th:only-of-type {\n",
       "        vertical-align: middle;\n",
       "    }\n",
       "\n",
       "    .dataframe tbody tr th {\n",
       "        vertical-align: top;\n",
       "    }\n",
       "\n",
       "    .dataframe thead th {\n",
       "        text-align: right;\n",
       "    }\n",
       "</style>\n",
       "<table border=\"1\" class=\"dataframe\">\n",
       "  <thead>\n",
       "    <tr style=\"text-align: right;\">\n",
       "      <th></th>\n",
       "      <th>PRODUCT_NAME</th>\n",
       "      <th>PRODUCT_PRICE</th>\n",
       "      <th>PRODUCT_FEATURES</th>\n",
       "      <th>PRODUCT_RATING</th>\n",
       "    </tr>\n",
       "  </thead>\n",
       "  <tbody>\n",
       "    <tr>\n",
       "      <th>0</th>\n",
       "      <td>Bose Frames Rondo</td>\n",
       "      <td>$199.95</td>\n",
       "      <td>Sunglasses with open-ear audio for music, int...</td>\n",
       "      <td>Rated 4.2 out of 5 stars by 10 customers</td>\n",
       "    </tr>\n",
       "    <tr>\n",
       "      <th>1</th>\n",
       "      <td>Bose Frames Alto</td>\n",
       "      <td>$199.95</td>\n",
       "      <td>Iconically styled sunglasses with open-ear au...</td>\n",
       "      <td>Rated 3.9 out of 5 stars by 29 customers</td>\n",
       "    </tr>\n",
       "    <tr>\n",
       "      <th>2</th>\n",
       "      <td>ProFlight Aviation Headset</td>\n",
       "      <td>$995.95</td>\n",
       "      <td>In ear, noise reduction, clear audio, audio/c...</td>\n",
       "      <td>Rated 3.5 out of 5 stars by 61 customers</td>\n",
       "    </tr>\n",
       "    <tr>\n",
       "      <th>3</th>\n",
       "      <td>QuietComfort 35 wireless headphones</td>\n",
       "      <td>$349.95</td>\n",
       "      <td>Adjustable noise cancelling, voice assistants...</td>\n",
       "      <td>Rated 4.0 out of 5 stars by 454 customers</td>\n",
       "    </tr>\n",
       "    <tr>\n",
       "      <th>4</th>\n",
       "      <td>SoundSport Free wireless headphones</td>\n",
       "      <td>$199.95</td>\n",
       "      <td>Truly wireless, water resistant, 5 hours of b...</td>\n",
       "      <td>Rated 3.5 out of 5 stars by 1088 customers</td>\n",
       "    </tr>\n",
       "    <tr>\n",
       "      <th>5</th>\n",
       "      <td>Bose noise-masking sleepbuds™</td>\n",
       "      <td>$249.95</td>\n",
       "      <td>Truly wireless, noise-masking sleepbuds, all-...</td>\n",
       "      <td>Rated 3.8 out of 5 stars by 450 customers</td>\n",
       "    </tr>\n",
       "    <tr>\n",
       "      <th>6</th>\n",
       "      <td>SoundSport wireless headphones</td>\n",
       "      <td>$149.95</td>\n",
       "      <td>Water resistant, 6 hours battery life</td>\n",
       "      <td>Rated 3.3 out of 5 stars by 1271 customers</td>\n",
       "    </tr>\n",
       "    <tr>\n",
       "      <th>7</th>\n",
       "      <td>Custom QuietComfort 35 wireless headphones</td>\n",
       "      <td>$399.95</td>\n",
       "      <td>Custom color with VPA built-in, noise cancell...</td>\n",
       "      <td>Rated 4.4 out of 5 stars by 23 customers</td>\n",
       "    </tr>\n",
       "    <tr>\n",
       "      <th>8</th>\n",
       "      <td>QC25 noise cancelling headphones – Apple dev...</td>\n",
       "      <td>$179.95</td>\n",
       "      <td>Noise cancelling, lightweight fit, inline mic...</td>\n",
       "      <td>Rated 3.8 out of 5 stars by 516 customers</td>\n",
       "    </tr>\n",
       "    <tr>\n",
       "      <th>9</th>\n",
       "      <td>SoundLink® around-ear wireless headphones</td>\n",
       "      <td>$229.95</td>\n",
       "      <td>Wireless, Bluetooth® controls, 2-way mic system</td>\n",
       "      <td>Rated 4.2 out of 5 stars by 283 customers</td>\n",
       "    </tr>\n",
       "    <tr>\n",
       "      <th>10</th>\n",
       "      <td>SoundWear Companion speaker</td>\n",
       "      <td>$299.95</td>\n",
       "      <td>Wearable speaker with deep, clear sound for m...</td>\n",
       "      <td>Rated 4.6 out of 5 stars by 153 customers</td>\n",
       "    </tr>\n",
       "    <tr>\n",
       "      <th>11</th>\n",
       "      <td>Bose on-ear wireless headphones</td>\n",
       "      <td>$179.95</td>\n",
       "      <td>Lightweight, wireless, 10 hours of battery life</td>\n",
       "      <td>Rated 3.8 out of 5 stars by 47 customers</td>\n",
       "    </tr>\n",
       "  </tbody>\n",
       "</table>\n",
       "</div>"
      ],
      "text/plain": [
       "                                         PRODUCT_NAME PRODUCT_PRICE  \\\n",
       "0                                 Bose Frames Rondo        $199.95    \n",
       "1                                  Bose Frames Alto        $199.95    \n",
       "2                        ProFlight Aviation Headset        $995.95    \n",
       "3              QuietComfort 35 wireless headphones         $349.95    \n",
       "4               SoundSport Free wireless headphones        $199.95    \n",
       "5                     Bose noise-masking sleepbuds™        $249.95    \n",
       "6                    SoundSport wireless headphones        $149.95    \n",
       "7       Custom QuietComfort 35 wireless headphones         $399.95    \n",
       "8     QC25 noise cancelling headphones – Apple dev...      $179.95    \n",
       "9        SoundLink® around-ear wireless headphones         $229.95    \n",
       "10                      SoundWear Companion speaker        $299.95    \n",
       "11                  Bose on-ear wireless headphones        $179.95    \n",
       "\n",
       "                                     PRODUCT_FEATURES  \\\n",
       "0    Sunglasses with open-ear audio for music, int...   \n",
       "1    Iconically styled sunglasses with open-ear au...   \n",
       "2    In ear, noise reduction, clear audio, audio/c...   \n",
       "3    Adjustable noise cancelling, voice assistants...   \n",
       "4    Truly wireless, water resistant, 5 hours of b...   \n",
       "5    Truly wireless, noise-masking sleepbuds, all-...   \n",
       "6              Water resistant, 6 hours battery life    \n",
       "7    Custom color with VPA built-in, noise cancell...   \n",
       "8    Noise cancelling, lightweight fit, inline mic...   \n",
       "9    Wireless, Bluetooth® controls, 2-way mic system    \n",
       "10   Wearable speaker with deep, clear sound for m...   \n",
       "11   Lightweight, wireless, 10 hours of battery life    \n",
       "\n",
       "                                PRODUCT_RATING  \n",
       "0     Rated 4.2 out of 5 stars by 10 customers  \n",
       "1     Rated 3.9 out of 5 stars by 29 customers  \n",
       "2     Rated 3.5 out of 5 stars by 61 customers  \n",
       "3    Rated 4.0 out of 5 stars by 454 customers  \n",
       "4   Rated 3.5 out of 5 stars by 1088 customers  \n",
       "5    Rated 3.8 out of 5 stars by 450 customers  \n",
       "6   Rated 3.3 out of 5 stars by 1271 customers  \n",
       "7     Rated 4.4 out of 5 stars by 23 customers  \n",
       "8    Rated 3.8 out of 5 stars by 516 customers  \n",
       "9    Rated 4.2 out of 5 stars by 283 customers  \n",
       "10   Rated 4.6 out of 5 stars by 153 customers  \n",
       "11    Rated 3.8 out of 5 stars by 47 customers  "
      ]
     },
     "execution_count": 109,
     "metadata": {},
     "output_type": "execute_result"
    }
   ],
   "source": [
    "Product_data"
   ]
  },
  {
   "cell_type": "code",
   "execution_count": 110,
   "metadata": {},
   "outputs": [],
   "source": [
    "#Exporting to csv file\n",
    "\n",
    "export_csv = Product_data.to_csv(r'C:\\Users\\prudh\\Desktop\\Bose_headphones.csv', index = None, header = True)"
   ]
  },
  {
   "cell_type": "raw",
   "metadata": {},
   "source": [
    "# Now that we have exported data to csv file we will now clean the data by removing unwanted symbols etc."
   ]
  },
  {
   "cell_type": "code",
   "execution_count": null,
   "metadata": {},
   "outputs": [],
   "source": []
  }
 ],
 "metadata": {
  "kernelspec": {
   "display_name": "Python 3",
   "language": "python",
   "name": "python3"
  },
  "language_info": {
   "codemirror_mode": {
    "name": "ipython",
    "version": 3
   },
   "file_extension": ".py",
   "mimetype": "text/x-python",
   "name": "python",
   "nbconvert_exporter": "python",
   "pygments_lexer": "ipython3",
   "version": "3.7.1"
  }
 },
 "nbformat": 4,
 "nbformat_minor": 2
}
